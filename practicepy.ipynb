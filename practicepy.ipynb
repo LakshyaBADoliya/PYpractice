{
 "cells": [
  {
   "cell_type": "code",
   "execution_count": 7,
   "id": "fb3d9429-bcb0-4c51-a337-4122d6e56c6a",
   "metadata": {},
   "outputs": [],
   "source": [
    "city=\"juiheuifif\""
   ]
  },
  {
   "cell_type": "code",
   "execution_count": 8,
   "id": "eb39f2d5-da6f-4670-afb4-f41f037b506a",
   "metadata": {},
   "outputs": [
    {
     "name": "stdout",
     "output_type": "stream",
     "text": [
      "<class 'str'>\n"
     ]
    }
   ],
   "source": [
    "print(type(city))"
   ]
  },
  {
   "cell_type": "markdown",
   "id": "a3715f12-39bc-4744-8326-bada232f0c5e",
   "metadata": {},
   "source": []
  },
  {
   "cell_type": "code",
   "execution_count": 10,
   "id": "cf96e83c-80ac-419c-abe6-5e65f51130c2",
   "metadata": {},
   "outputs": [],
   "source": [
    "name='Lakshya'\n",
    "age='21'"
   ]
  },
  {
   "cell_type": "code",
   "execution_count": 11,
   "id": "f4d09a06-f124-4d7e-9073-b19e126374f3",
   "metadata": {},
   "outputs": [
    {
     "name": "stdout",
     "output_type": "stream",
     "text": [
      "my name is Lakshya age is 21\n"
     ]
    }
   ],
   "source": [
    "print(\"my name is\",name,\"age is\",age)"
   ]
  },
  {
   "cell_type": "code",
   "execution_count": 12,
   "id": "a1879337-c719-4efe-8505-ae6e5dd54d9d",
   "metadata": {},
   "outputs": [
    {
     "name": "stdout",
     "output_type": "stream",
     "text": [
      "my name is Lakshya age is 21\n"
     ]
    }
   ],
   "source": [
    "print(f\"my name is {name} age is {age}\")"
   ]
  },
  {
   "cell_type": "code",
   "execution_count": 13,
   "id": "8b49625e-7197-4742-8893-c54439b0fd4e",
   "metadata": {},
   "outputs": [
    {
     "name": "stdout",
     "output_type": "stream",
     "text": [
      "hello bhai aman\n",
      "hello bhai aman\n"
     ]
    }
   ],
   "source": [
    "a = \"aman\"\n",
    "msg = f\"hello bhai {a}\"\n",
    "\n",
    "print(msg)\n",
    "a = \"lodu\"\n",
    "print(msg)"
   ]
  },
  {
   "cell_type": "code",
   "execution_count": null,
   "id": "94cbff17-4e62-4248-8778-bd6061731cc1",
   "metadata": {},
   "outputs": [],
   "source": []
  }
 ],
 "metadata": {
  "kernelspec": {
   "display_name": "Python 3 (ipykernel)",
   "language": "python",
   "name": "python3"
  },
  "language_info": {
   "codemirror_mode": {
    "name": "ipython",
    "version": 3
   },
   "file_extension": ".py",
   "mimetype": "text/x-python",
   "name": "python",
   "nbconvert_exporter": "python",
   "pygments_lexer": "ipython3",
   "version": "3.11.4"
  }
 },
 "nbformat": 4,
 "nbformat_minor": 5
}
