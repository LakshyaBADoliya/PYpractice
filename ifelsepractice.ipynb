{
 "cells": [
  {
   "cell_type": "code",
   "execution_count": 6,
   "id": "56e85c04-41e0-410a-b441-2416451347cb",
   "metadata": {},
   "outputs": [
    {
     "name": "stdout",
     "output_type": "stream",
     "text": [
      "you can work\n"
     ]
    }
   ],
   "source": [
    "## age=21\n",
    "if(age==21):\n",
    "    print(\"you can work\")\n",
    "else:\n",
    "    print(\"you can't be here \")"
   ]
  },
  {
   "cell_type": "code",
   "execution_count": 12,
   "id": "c0888dbd-b535-407f-9e2a-2c64cee3751c",
   "metadata": {},
   "outputs": [
    {
     "name": "stdout",
     "output_type": "stream",
     "text": [
      "get out\n"
     ]
    }
   ],
   "source": [
    "x=13\n",
    "if(x==10):\n",
    "    print(\"hiii\")\n",
    "elif(x==15):\n",
    "    print(\"hola amigo\")\n",
    "else:\n",
    "    print(\"get out\")"
   ]
  },
  {
   "cell_type": "code",
   "execution_count": 18,
   "id": "6c413508-962b-46e0-95da-abc77d7c3570",
   "metadata": {},
   "outputs": [
    {
     "name": "stdout",
     "output_type": "stream",
     "text": [
      "false\n"
     ]
    }
   ],
   "source": [
    "x=11\n",
    "if(x==10 or x==15):\n",
    "    print(\"hell0\")\n",
    "else:\n",
    "    print(\"false\")"
   ]
  },
  {
   "cell_type": "code",
   "execution_count": 39,
   "id": "f84d156b-e8c7-456f-890e-dbc38418ff0a",
   "metadata": {},
   "outputs": [
    {
     "name": "stdout",
     "output_type": "stream",
     "text": [
      "not valid\n"
     ]
    }
   ],
   "source": [
    "x=11\n",
    "y=17\n",
    "\n",
    "if(x>=10 and y>=18):\n",
    "    print(\"age is vaild\")\n",
    "else:\n",
    "    print(\"not valid\")\n",
    "    "
   ]
  },
  {
   "cell_type": "code",
   "execution_count": 43,
   "id": "cdfbba90-c104-4909-970f-58431f8e4ced",
   "metadata": {},
   "outputs": [
    {
     "name": "stdout",
     "output_type": "stream",
     "text": [
      "1\n"
     ]
    }
   ],
   "source": [
    "x=min(10,1,19)\n",
    "print(x)"
   ]
  },
  {
   "cell_type": "code",
   "execution_count": 44,
   "id": "56203202-e622-4518-a5ed-ba6eb7cf3ebb",
   "metadata": {},
   "outputs": [
    {
     "name": "stdin",
     "output_type": "stream",
     "text": [
      "enter no 10\n",
      "enter no 16\n",
      "enter no 200\n"
     ]
    },
    {
     "name": "stdout",
     "output_type": "stream",
     "text": [
      "mimimum of the three no is : 10\n"
     ]
    }
   ],
   "source": [
    "a=int(input(\"enter no\"))\n",
    "b=int(input(\"enter no\"))\n",
    "c=int(input(\"enter no\"))\n",
    "if(a<=b and a<=c):\n",
    "    minimum=a\n",
    "elif(b<=a and b<=c):\n",
    "    minimum=b\n",
    "else:\n",
    "    minimum=c\n",
    "\n",
    "print(f\"mimimum of the three no is : {minimum}\")"
   ]
  },
  {
   "cell_type": "code",
   "execution_count": 46,
   "id": "3b63c1d5-46a7-4dd7-ba81-10a6128f838c",
   "metadata": {},
   "outputs": [
    {
     "name": "stdin",
     "output_type": "stream",
     "text": [
      "enter no 10\n",
      "enter no 1\n",
      "enter no 100\n"
     ]
    },
    {
     "name": "stdout",
     "output_type": "stream",
     "text": [
      "1\n"
     ]
    }
   ],
   "source": [
    "a=int(input(\"enter no\"))\n",
    "b=int(input(\"enter no\"))\n",
    "c=int(input(\"enter no\"))\n",
    "x=min(a,b,c)\n",
    "print(x)"
   ]
  },
  {
   "cell_type": "code",
   "execution_count": 63,
   "id": "9747565c-f2a6-44fe-afe3-e8e85086b6ea",
   "metadata": {},
   "outputs": [
    {
     "name": "stdin",
     "output_type": "stream",
     "text": [
      "enter no 100\n"
     ]
    },
    {
     "name": "stdout",
     "output_type": "stream",
     "text": [
      "brilliant\n"
     ]
    }
   ],
   "source": [
    "x=int(input(\"enter no\"))\n",
    "if(x>95):\n",
    "    print(\"brilliant\")\n",
    "elif(x>85):\n",
    "    print(\"excellent\")\n",
    "elif(x>75):\n",
    "    print(\"good\")\n",
    "elif(x>65):\n",
    "    print(\"aveg\")\n",
    "else:\n",
    "    print(\"FAIL\")"
   ]
  },
  {
   "cell_type": "code",
   "execution_count": 70,
   "id": "8b58db5f-0076-43b2-8edd-87188bc54e14",
   "metadata": {},
   "outputs": [
    {
     "name": "stdin",
     "output_type": "stream",
     "text": [
      "enter no 1200\n"
     ]
    },
    {
     "name": "stdout",
     "output_type": "stream",
     "text": [
      "divisible by 6\n"
     ]
    }
   ],
   "source": [
    "x=int(input(\"enter no\"))\n",
    "if x%2==0 and x%3==0 :\n",
    "    print(\"divisible by 6\")\n",
    "else:\n",
    "    print(\"fcuk\")"
   ]
  },
  {
   "cell_type": "code",
   "execution_count": 74,
   "id": "e55f2860-3657-4e59-8275-4a932189128b",
   "metadata": {},
   "outputs": [
    {
     "name": "stdin",
     "output_type": "stream",
     "text": [
      "enter no 3\n"
     ]
    },
    {
     "name": "stdout",
     "output_type": "stream",
     "text": [
      "mar\n"
     ]
    }
   ],
   "source": [
    "x=int(input(\"enter no\"))\n",
    "if x==1:\n",
    "    print(\"jan\")\n",
    "elif x==2:\n",
    "    print(\"feb\")\n",
    "elif x==3:\n",
    "    print(\"mar\")\n",
    "elif x==4:\n",
    "    print(\"ap\")\n",
    "else:\n",
    "    print(\"choose no 1-12 cause there only 12 mounth\")"
   ]
  },
  {
   "cell_type": "code",
   "execution_count": null,
   "id": "4c0bdb77-91d5-4075-a5c2-6a07c1043591",
   "metadata": {},
   "outputs": [],
   "source": []
  }
 ],
 "metadata": {
  "kernelspec": {
   "display_name": "Python 3 (ipykernel)",
   "language": "python",
   "name": "python3"
  },
  "language_info": {
   "codemirror_mode": {
    "name": "ipython",
    "version": 3
   },
   "file_extension": ".py",
   "mimetype": "text/x-python",
   "name": "python",
   "nbconvert_exporter": "python",
   "pygments_lexer": "ipython3",
   "version": "3.11.4"
  }
 },
 "nbformat": 4,
 "nbformat_minor": 5
}
