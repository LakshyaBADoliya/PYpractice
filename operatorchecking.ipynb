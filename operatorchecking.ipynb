{
 "cells": [
  {
   "cell_type": "code",
   "execution_count": 3,
   "id": "09fad374-0100-4e6d-817a-e85b7f7a0b52",
   "metadata": {},
   "outputs": [
    {
     "name": "stdout",
     "output_type": "stream",
     "text": [
      "140706470749256\n"
     ]
    }
   ],
   "source": [
    "print(id(x))"
   ]
  },
  {
   "cell_type": "code",
   "execution_count": 4,
   "id": "f4be8f69-c102-4a5d-adb8-c37a32068409",
   "metadata": {},
   "outputs": [
    {
     "name": "stdout",
     "output_type": "stream",
     "text": [
      "140706470749256\n"
     ]
    }
   ],
   "source": [
    "y=x\n",
    "print(id(y))"
   ]
  },
  {
   "cell_type": "code",
   "execution_count": 6,
   "id": "f7fe92e9-1652-42e8-9424-9e9bab1442c6",
   "metadata": {},
   "outputs": [
    {
     "name": "stdout",
     "output_type": "stream",
     "text": [
      "140706470749544\n",
      "140706470749256\n"
     ]
    },
    {
     "data": {
      "text/plain": [
       "(None, None)"
      ]
     },
     "execution_count": 6,
     "metadata": {},
     "output_type": "execute_result"
    }
   ],
   "source": [
    "y=19\n",
    "print(id(y)),print(id(x))"
   ]
  },
  {
   "cell_type": "code",
   "execution_count": 7,
   "id": "ac657e65-eb48-4cba-9423-74da9761b26f",
   "metadata": {},
   "outputs": [
    {
     "data": {
      "text/plain": [
       "4"
      ]
     },
     "execution_count": 7,
     "metadata": {},
     "output_type": "execute_result"
    }
   ],
   "source": [
    "100%8"
   ]
  },
  {
   "cell_type": "code",
   "execution_count": 8,
   "id": "f0f0fcb0-8dee-453d-9fa6-da41f7c9b98f",
   "metadata": {},
   "outputs": [
    {
     "data": {
      "text/plain": [
       "27508"
      ]
     },
     "execution_count": 8,
     "metadata": {},
     "output_type": "execute_result"
    }
   ],
   "source": [
    "92*299"
   ]
  },
  {
   "cell_type": "code",
   "execution_count": 12,
   "id": "856cde6f-cd5d-4aad-81ef-894764869f6e",
   "metadata": {},
   "outputs": [
    {
     "data": {
      "text/plain": [
       "12"
      ]
     },
     "execution_count": 12,
     "metadata": {},
     "output_type": "execute_result"
    }
   ],
   "source": [
    "90//7"
   ]
  },
  {
   "cell_type": "code",
   "execution_count": 13,
   "id": "faa04105-51df-4bd8-9473-fcf781c3975d",
   "metadata": {},
   "outputs": [
    {
     "data": {
      "text/plain": [
       "56"
      ]
     },
     "execution_count": 13,
     "metadata": {},
     "output_type": "execute_result"
    }
   ],
   "source": [
    "8*7"
   ]
  },
  {
   "cell_type": "code",
   "execution_count": 15,
   "id": "c8d81aa1-5133-41fd-b01c-e00ee8906bf3",
   "metadata": {},
   "outputs": [
    {
     "data": {
      "text/plain": [
       "-40"
      ]
     },
     "execution_count": 15,
     "metadata": {},
     "output_type": "execute_result"
    }
   ],
   "source": [
    "1+3*5-8*7"
   ]
  },
  {
   "cell_type": "code",
   "execution_count": 16,
   "id": "07fe5f30-7897-4529-b6a8-15bddedba1ce",
   "metadata": {},
   "outputs": [
    {
     "name": "stdout",
     "output_type": "stream",
     "text": [
      "1\n"
     ]
    }
   ],
   "source": [
    "x=5\n",
    "x //=5\n",
    "print(x)"
   ]
  },
  {
   "cell_type": "code",
   "execution_count": 17,
   "id": "b749fe18-3b4d-4788-9b47-e6951186ba27",
   "metadata": {},
   "outputs": [
    {
     "data": {
      "text/plain": [
       "True"
      ]
     },
     "execution_count": 17,
     "metadata": {},
     "output_type": "execute_result"
    }
   ],
   "source": [
    "x==1"
   ]
  },
  {
   "cell_type": "code",
   "execution_count": 18,
   "id": "edc29739-f860-477a-930c-9bcc235b656e",
   "metadata": {},
   "outputs": [
    {
     "data": {
      "text/plain": [
       "False"
      ]
     },
     "execution_count": 18,
     "metadata": {},
     "output_type": "execute_result"
    }
   ],
   "source": [
    "x==5"
   ]
  },
  {
   "cell_type": "code",
   "execution_count": 21,
   "id": "79762695-ff84-4b7d-97ba-c0d0f976075c",
   "metadata": {},
   "outputs": [
    {
     "data": {
      "text/plain": [
       "12"
      ]
     },
     "execution_count": 21,
     "metadata": {},
     "output_type": "execute_result"
    }
   ],
   "source": [
    "13 & 14"
   ]
  },
  {
   "cell_type": "code",
   "execution_count": 22,
   "id": "07a7b597-25a2-42cf-8c32-ca36748931af",
   "metadata": {},
   "outputs": [
    {
     "data": {
      "text/plain": [
       "15"
      ]
     },
     "execution_count": 22,
     "metadata": {},
     "output_type": "execute_result"
    }
   ],
   "source": [
    "13 | 14 "
   ]
  },
  {
   "cell_type": "code",
   "execution_count": 23,
   "id": "ab419749-82ba-4df0-b89d-62daf44fbbdd",
   "metadata": {},
   "outputs": [
    {
     "data": {
      "text/plain": [
       "96"
      ]
     },
     "execution_count": 23,
     "metadata": {},
     "output_type": "execute_result"
    }
   ],
   "source": [
    "24<<2"
   ]
  },
  {
   "cell_type": "code",
   "execution_count": 24,
   "id": "98923594-04da-44d2-9145-11d5fdd7d62e",
   "metadata": {},
   "outputs": [
    {
     "data": {
      "text/plain": [
       "6"
      ]
     },
     "execution_count": 24,
     "metadata": {},
     "output_type": "execute_result"
    }
   ],
   "source": [
    "24>>2"
   ]
  },
  {
   "cell_type": "code",
   "execution_count": 28,
   "id": "af01f4f2-debe-4405-acff-9d18841cbb40",
   "metadata": {},
   "outputs": [
    {
     "data": {
      "text/plain": [
       "True"
      ]
     },
     "execution_count": 28,
     "metadata": {},
     "output_type": "execute_result"
    }
   ],
   "source": [
    "\"b\" not in \"ajmer\""
   ]
  },
  {
   "cell_type": "code",
   "execution_count": null,
   "id": "22ed1556-a01e-43a6-895b-4e3dbbda9370",
   "metadata": {},
   "outputs": [],
   "source": []
  }
 ],
 "metadata": {
  "kernelspec": {
   "display_name": "Python 3 (ipykernel)",
   "language": "python",
   "name": "python3"
  },
  "language_info": {
   "codemirror_mode": {
    "name": "ipython",
    "version": 3
   },
   "file_extension": ".py",
   "mimetype": "text/x-python",
   "name": "python",
   "nbconvert_exporter": "python",
   "pygments_lexer": "ipython3",
   "version": "3.11.4"
  }
 },
 "nbformat": 4,
 "nbformat_minor": 5
}
