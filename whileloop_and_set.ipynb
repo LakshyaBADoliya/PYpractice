{
 "cells": [
  {
   "cell_type": "code",
   "execution_count": 1,
   "id": "e2a6c50a-f650-4876-a516-ea3226732275",
   "metadata": {},
   "outputs": [
    {
     "name": "stdout",
     "output_type": "stream",
     "text": [
      "1\n",
      "2\n",
      "3\n",
      "4\n",
      "5\n",
      "6\n",
      "7\n",
      "8\n",
      "9\n",
      "10\n"
     ]
    }
   ],
   "source": [
    "i=0\n",
    "while(i<10):\n",
    "    i+=1\n",
    "    print(i) "
   ]
  },
  {
   "cell_type": "code",
   "execution_count": 2,
   "id": "d27c5f1b-4316-4c96-9e95-64fbc550ffbc",
   "metadata": {},
   "outputs": [
    {
     "name": "stdout",
     "output_type": "stream",
     "text": [
      "0\n",
      "1\n",
      "2\n",
      "3\n",
      "4\n",
      "5\n",
      "6\n",
      "7\n",
      "8\n",
      "9\n"
     ]
    }
   ],
   "source": [
    "i=0\n",
    "while(i<10):\n",
    "    print(i) \n",
    "    i+=1"
   ]
  },
  {
   "cell_type": "code",
   "execution_count": 3,
   "id": "38ae7314-68d8-4cea-9fea-28d340462ca1",
   "metadata": {},
   "outputs": [
    {
     "name": "stdout",
     "output_type": "stream",
     "text": [
      "value is : 10\n"
     ]
    }
   ],
   "source": [
    "i=5\n",
    "while(True):\n",
    "    if(i==10):\n",
    "        print(\"value is :\",i)\n",
    "        break\n",
    "    i+=1\n",
    "        \n",
    "    \n",
    "    "
   ]
  },
  {
   "cell_type": "code",
   "execution_count": 18,
   "id": "3f0d1b0d-1d21-4d94-84c5-876b41bca4c4",
   "metadata": {},
   "outputs": [
    {
     "name": "stdout",
     "output_type": "stream",
     "text": [
      "0\n",
      "2\n",
      "4\n",
      "6\n",
      "8\n"
     ]
    }
   ],
   "source": [
    "count=0\n",
    "y=0\n",
    "while(True):\n",
    "    if(count%2==0):\n",
    "        print(count)\n",
    "        y+=1\n",
    "    if(y==5):\n",
    "        \n",
    "        break\n",
    "    count+=1"
   ]
  },
  {
   "cell_type": "code",
   "execution_count": 19,
   "id": "29b7c2fe-e82f-4936-9509-f569af7bd299",
   "metadata": {},
   "outputs": [],
   "source": [
    "#sets"
   ]
  },
  {
   "cell_type": "code",
   "execution_count": 20,
   "id": "afb1237b-b8e4-4485-8322-e9f3d8f1e788",
   "metadata": {},
   "outputs": [],
   "source": [
    "myset={1,2,23,35,0,112,34,12,1991}"
   ]
  },
  {
   "cell_type": "code",
   "execution_count": 21,
   "id": "90f7b29b-615a-40fe-81ed-81aec17f4323",
   "metadata": {},
   "outputs": [
    {
     "data": {
      "text/plain": [
       "{0, 1, 2, 12, 23, 34, 35, 112, 1991}"
      ]
     },
     "execution_count": 21,
     "metadata": {},
     "output_type": "execute_result"
    }
   ],
   "source": [
    "myset"
   ]
  },
  {
   "cell_type": "code",
   "execution_count": 22,
   "id": "9600e6d3-e884-4674-ba46-8326e5b8f760",
   "metadata": {},
   "outputs": [],
   "source": [
    "myset.add(1000)"
   ]
  },
  {
   "cell_type": "code",
   "execution_count": 23,
   "id": "b64f3684-7687-42ef-bf58-53fb2dccd00f",
   "metadata": {},
   "outputs": [
    {
     "data": {
      "text/plain": [
       "{0, 1, 2, 12, 23, 34, 35, 112, 1000, 1991}"
      ]
     },
     "execution_count": 23,
     "metadata": {},
     "output_type": "execute_result"
    }
   ],
   "source": [
    "myset"
   ]
  },
  {
   "cell_type": "code",
   "execution_count": 25,
   "id": "3467a9ba-f5af-416f-9688-dde9cc2534cd",
   "metadata": {},
   "outputs": [],
   "source": [
    "myset.update(\"hey\")"
   ]
  },
  {
   "cell_type": "code",
   "execution_count": 26,
   "id": "d26985c4-6603-42c9-8ec9-dc62224e571e",
   "metadata": {},
   "outputs": [
    {
     "data": {
      "text/plain": [
       "{0, 1, 1000, 112, 12, 1991, 2, 23, 34, 35, 'e', 'h', 'y'}"
      ]
     },
     "execution_count": 26,
     "metadata": {},
     "output_type": "execute_result"
    }
   ],
   "source": [
    "myset\n"
   ]
  },
  {
   "cell_type": "code",
   "execution_count": 29,
   "id": "03d8af47-c9b4-4e1b-a45d-188cc7b7a519",
   "metadata": {},
   "outputs": [],
   "source": [
    "myset.update([\"nigga\"])"
   ]
  },
  {
   "cell_type": "code",
   "execution_count": 30,
   "id": "43c4765f-4c36-4d4c-be24-8d1df322d4fc",
   "metadata": {},
   "outputs": [
    {
     "data": {
      "text/plain": [
       "{0,\n",
       " 1,\n",
       " 1000,\n",
       " 112,\n",
       " 12,\n",
       " 1991,\n",
       " 2,\n",
       " 23,\n",
       " 34,\n",
       " 35,\n",
       " 'a',\n",
       " 'e',\n",
       " 'g',\n",
       " 'h',\n",
       " 'i',\n",
       " 'n',\n",
       " 'nigga',\n",
       " 'y'}"
      ]
     },
     "execution_count": 30,
     "metadata": {},
     "output_type": "execute_result"
    }
   ],
   "source": [
    "myset"
   ]
  },
  {
   "cell_type": "code",
   "execution_count": 32,
   "id": "d0f6610d-0212-4481-b326-300890868ae4",
   "metadata": {},
   "outputs": [],
   "source": [
    "myset.remove(\"nigga\")"
   ]
  },
  {
   "cell_type": "code",
   "execution_count": 33,
   "id": "5eb6931c-1d12-4778-8642-360b91c396dc",
   "metadata": {},
   "outputs": [
    {
     "data": {
      "text/plain": [
       "{0, 1, 1000, 112, 12, 1991, 2, 23, 34, 35, 'a', 'e', 'g', 'h', 'i', 'n', 'y'}"
      ]
     },
     "execution_count": 33,
     "metadata": {},
     "output_type": "execute_result"
    }
   ],
   "source": [
    "myset"
   ]
  },
  {
   "cell_type": "code",
   "execution_count": 34,
   "id": "86924afb-57e4-4d24-a15d-beb7adb263ef",
   "metadata": {},
   "outputs": [],
   "source": [
    "myset.discard(1991)"
   ]
  },
  {
   "cell_type": "code",
   "execution_count": 35,
   "id": "6b975b3e-5aa6-42b3-bd17-e7f5f41d93c8",
   "metadata": {},
   "outputs": [
    {
     "data": {
      "text/plain": [
       "{0, 1, 1000, 112, 12, 2, 23, 34, 35, 'a', 'e', 'g', 'h', 'i', 'n', 'y'}"
      ]
     },
     "execution_count": 35,
     "metadata": {},
     "output_type": "execute_result"
    }
   ],
   "source": [
    "myset"
   ]
  },
  {
   "cell_type": "code",
   "execution_count": 41,
   "id": "f3d30619-3bae-47b0-8358-6315e468a015",
   "metadata": {},
   "outputs": [
    {
     "name": "stdout",
     "output_type": "stream",
     "text": [
      "{'only', 'is', 'test', 'test.', 'this', 'a'}\n"
     ]
    }
   ],
   "source": [
    "text = \"this is a test. this test is only a test.\"\n",
    "words = text.split()\n",
    "unique_words = set(words)\n",
    "print(unique_words)\n"
   ]
  },
  {
   "cell_type": "code",
   "execution_count": null,
   "id": "bed9fb8b-f8b0-4c49-8df4-7ebfcdf8d792",
   "metadata": {},
   "outputs": [],
   "source": [
    " "
   ]
  }
 ],
 "metadata": {
  "kernelspec": {
   "display_name": "Python 3 (ipykernel)",
   "language": "python",
   "name": "python3"
  },
  "language_info": {
   "codemirror_mode": {
    "name": "ipython",
    "version": 3
   },
   "file_extension": ".py",
   "mimetype": "text/x-python",
   "name": "python",
   "nbconvert_exporter": "python",
   "pygments_lexer": "ipython3",
   "version": "3.11.4"
  }
 },
 "nbformat": 4,
 "nbformat_minor": 5
}
