{
 "cells": [
  {
   "cell_type": "code",
   "execution_count": 1,
   "id": "34cd918b-bb2a-4e08-94a9-2bfe4c082534",
   "metadata": {},
   "outputs": [
    {
     "data": {
      "text/plain": [
       "'ra'"
      ]
     },
     "execution_count": 1,
     "metadata": {},
     "output_type": "execute_result"
    }
   ],
   "source": [
    "state=\"rajasthan\"\n",
    "state[0:-7]"
   ]
  },
  {
   "cell_type": "code",
   "execution_count": 2,
   "id": "4cb8f398-29ad-444a-9574-ebc83a90a99e",
   "metadata": {},
   "outputs": [
    {
     "name": "stdout",
     "output_type": "stream",
     "text": [
      "1\n",
      "2\n",
      "3\n"
     ]
    }
   ],
   "source": [
    "for i in range (1,4):\n",
    "    print(i)"
   ]
  },
  {
   "cell_type": "code",
   "execution_count": 8,
   "id": "37f20885-997a-4c6a-b36b-7b31f45551a9",
   "metadata": {},
   "outputs": [
    {
     "name": "stdout",
     "output_type": "stream",
     "text": [
      "1\n",
      "5\n",
      "9\n",
      "13\n",
      "17\n",
      "21\n",
      "25\n",
      "29\n",
      "33\n",
      "37\n",
      "41\n",
      "45\n",
      "49\n"
     ]
    }
   ],
   "source": [
    "for i in range (1,50,4):\n",
    "    print(i)"
   ]
  },
  {
   "cell_type": "code",
   "execution_count": 30,
   "id": "995d91d7-e5c6-4370-be4e-f988f4b939f1",
   "metadata": {},
   "outputs": [
    {
     "name": "stdout",
     "output_type": "stream",
     "text": [
      "55\n"
     ]
    }
   ],
   "source": [
    "x=0\n",
    "for i in range (0,11):\n",
    "    x+=i\n",
    "print(x)"
   ]
  },
  {
   "cell_type": "code",
   "execution_count": 26,
   "id": "e51dd91c-903e-4560-9337-060733dac114",
   "metadata": {},
   "outputs": [
    {
     "name": "stdout",
     "output_type": "stream",
     "text": [
      "multiplication of  3628800\n"
     ]
    }
   ],
   "source": [
    "x=1\n",
    "for i in range (1, 11):\n",
    "    x *= i\n",
    "    \n",
    "\n",
    "print(\"multiplication of \",x)\n",
    "    "
   ]
  },
  {
   "cell_type": "code",
   "execution_count": 31,
   "id": "79f90c6d-d0cd-4827-addc-398da9a8de7f",
   "metadata": {},
   "outputs": [],
   "source": [
    "x=\"hell\""
   ]
  },
  {
   "cell_type": "code",
   "execution_count": 36,
   "id": "a4d3a7f4-066b-4966-8e66-6542f925f915",
   "metadata": {},
   "outputs": [
    {
     "name": "stdout",
     "output_type": "stream",
     "text": [
      "0 hell h\n",
      "1 hell e\n",
      "2 hell l\n",
      "3 hell l\n"
     ]
    }
   ],
   "source": [
    "for j in range(0,4):\n",
    "    print(j,x,x[j])"
   ]
  },
  {
   "cell_type": "code",
   "execution_count": 6,
   "id": "85023639-52b5-45ab-905e-dc55dccf89f0",
   "metadata": {},
   "outputs": [
    {
     "name": "stdin",
     "output_type": "stream",
     "text": [
      "string enter hii the name is bad whats yours\n"
     ]
    },
    {
     "name": "stdout",
     "output_type": "stream",
     "text": [
      "string 31\n"
     ]
    }
   ],
   "source": [
    "x=input(\"string enter\")\n",
    "y=0\n",
    "for char in x:\n",
    " y += 1\n",
    "\n",
    "print(\"string\",y)"
   ]
  },
  {
   "cell_type": "code",
   "execution_count": 10,
   "id": "7654bb5d-ff56-4c86-9bba-a39b1a65dd00",
   "metadata": {},
   "outputs": [
    {
     "name": "stdin",
     "output_type": "stream",
     "text": [
      "enter a string sajnksaciaon\n"
     ]
    },
    {
     "name": "stdout",
     "output_type": "stream",
     "text": [
      "vowels  5\n"
     ]
    }
   ],
   "source": [
    "x=input(\"enter a string\")\n",
    "vowels=\"aeiouAEIOU\"\n",
    "y=0\n",
    "for char in x:\n",
    "    if char in vowels:\n",
    "        y+=1\n",
    "\n",
    "print(\"vowels \",y)"
   ]
  },
  {
   "cell_type": "code",
   "execution_count": 25,
   "id": "305a2244-76a8-49fc-b058-875fa8befc83",
   "metadata": {},
   "outputs": [
    {
     "name": "stdout",
     "output_type": "stream",
     "text": [
      "98\n",
      "95\n",
      "91\n",
      "90\n",
      "85\n",
      "84\n",
      "80\n",
      "77\n",
      "75\n",
      "70\n",
      "65\n",
      "63\n",
      "60\n",
      "56\n",
      "55\n",
      "50\n",
      "49\n",
      "45\n",
      "42\n",
      "40\n",
      "35\n",
      "30\n",
      "28\n",
      "25\n",
      "21\n",
      "20\n",
      "15\n",
      "14\n",
      "10\n",
      "7\n",
      "5\n"
     ]
    }
   ],
   "source": [
    "for i in range(99,4,-1):\n",
    "    if(i%5==0 or i%7==0):\n",
    "       print(i)"
   ]
  },
  {
   "cell_type": "code",
   "execution_count": 50,
   "id": "21337974-e347-43c6-ad5a-73a8e137c56e",
   "metadata": {},
   "outputs": [
    {
     "name": "stdout",
     "output_type": "stream",
     "text": [
      "4 3 2 1  \n",
      "4 3 2 1  \n",
      "4 3 2 1  \n",
      "4 3 2 1  \n"
     ]
    }
   ],
   "source": [
    "for i in range(1,5):\n",
    "    \n",
    "    for k in range(4,0,-1):\n",
    "        \n",
    "        print(k,end=\" \")\n",
    "\n",
    "    print(\" \")"
   ]
  },
  {
   "cell_type": "code",
   "execution_count": 51,
   "id": "8329aacb-b6eb-4150-a5fe-cda10119f96a",
   "metadata": {},
   "outputs": [
    {
     "name": "stdout",
     "output_type": "stream",
     "text": [
      "100 101 102  \n",
      "100 101 102  \n",
      "100 101 102  \n",
      "100 101 102  \n"
     ]
    }
   ],
   "source": [
    "for i in range(1,5):\n",
    "    for k in range(100,103):\n",
    "        \n",
    "        print(k,end=' ')\n",
    "\n",
    "    print(\" \")"
   ]
  },
  {
   "cell_type": "code",
   "execution_count": 57,
   "id": "533826a3-aa15-46c1-a43c-21cc9b8eb33e",
   "metadata": {},
   "outputs": [
    {
     "name": "stdout",
     "output_type": "stream",
     "text": [
      "🍆💦  \n",
      "🍆💦 🍆💦  \n",
      "🍆💦 🍆💦 🍆💦  \n",
      "🍆💦 🍆💦 🍆💦 🍆💦  \n"
     ]
    }
   ],
   "source": [
    "for i in range(1,5):\n",
    "    for k in range(1,i+1):\n",
    "        \n",
    "        print(\"🍆💦\",end=' ')\n",
    "\n",
    "\n",
    "    print(\" \")"
   ]
  },
  {
   "cell_type": "code",
   "execution_count": 71,
   "id": "6ce56262-153b-4da9-a620-ab4dcd74a6b6",
   "metadata": {},
   "outputs": [
    {
     "name": "stdout",
     "output_type": "stream",
     "text": [
      "* * * *  \n",
      "* * *  \n",
      "* *  \n",
      "*  \n"
     ]
    }
   ],
   "source": [
    "for i in range(1,5):\n",
    "    for k in range(4,i-1,-1):\n",
    "        \n",
    "        print(\"*\",end=' ')\n",
    "\n",
    "\n",
    "    print(\" \")"
   ]
  },
  {
   "cell_type": "code",
   "execution_count": 76,
   "id": "8faad238-2498-4ce2-8da0-df4c23ae0861",
   "metadata": {},
   "outputs": [
    {
     "name": "stdout",
     "output_type": "stream",
     "text": [
      "*  \n",
      "* *  \n",
      "* * *  \n",
      "* * * *  \n"
     ]
    }
   ],
   "source": [
    "for i in range(1,5):\n",
    "    for k in range(1,i+1):\n",
    "        \n",
    "        print(\"*\",end=' ')\n",
    "\n",
    "\n",
    "    print(\" \")"
   ]
  },
  {
   "cell_type": "code",
   "execution_count": 79,
   "id": "b9f739ea-d350-41e4-b25c-1b3707c4fa53",
   "metadata": {},
   "outputs": [
    {
     "name": "stdout",
     "output_type": "stream",
     "text": [
      "$ $ $ *  \n",
      "$ $ * *  \n",
      "$ * * *  \n",
      "* * * *  \n"
     ]
    }
   ],
   "source": [
    "\n",
    "for i in range(1,5):\n",
    "    for k in range(i,4):\n",
    "        print(\"$\",end=' ')\n",
    "        \n",
    "    for k in range(1,i+1):\n",
    "        print(\"*\",end=' ')\n",
    "\n",
    "\n",
    "    print(\" \")"
   ]
  },
  {
   "cell_type": "code",
   "execution_count": 82,
   "id": "21dd285b-e1e6-4353-a37d-c082ce469405",
   "metadata": {},
   "outputs": [
    {
     "name": "stdout",
     "output_type": "stream",
     "text": [
      "$ $ $ $ $ $ $ $ *   \n",
      "$ $ $ $ $ $ $ * *   \n",
      "$ $ $ $ $ $ * * *   \n",
      "$ $ $ $ $ * * * *   \n",
      "$ $ $ $ * * * * *   \n",
      "$ $ $ * * * * * *   \n",
      "$ $ * * * * * * *   \n",
      "$ * * * * * * * *   \n",
      "* * * * * * * * *   \n"
     ]
    }
   ],
   "source": [
    "row=9\n",
    "for i in range(1,row+1):\n",
    "    for k in range(i,row):\n",
    "        print(\"$\",end=' ')\n",
    "        \n",
    "    for j in range(1,i+1):\n",
    "        print(\"*\",end=' ')\n",
    "    print(\"  \")"
   ]
  },
  {
   "cell_type": "code",
   "execution_count": 87,
   "id": "0dc3ab64-bfbe-4386-9cca-685ac8547658",
   "metadata": {},
   "outputs": [
    {
     "name": "stdout",
     "output_type": "stream",
     "text": [
      "A B C D E F G H I J K L M N O P Q R S T U V W X Y Z "
     ]
    }
   ],
   "source": [
    "for i in range(65,91): \n",
    "    print(chr(i), end=' ')"
   ]
  },
  {
   "cell_type": "code",
   "execution_count": null,
   "id": "7a1f94dd-4970-4e29-bd18-759479c49726",
   "metadata": {},
   "outputs": [],
   "source": []
  }
 ],
 "metadata": {
  "kernelspec": {
   "display_name": "Python 3 (ipykernel)",
   "language": "python",
   "name": "python3"
  },
  "language_info": {
   "codemirror_mode": {
    "name": "ipython",
    "version": 3
   },
   "file_extension": ".py",
   "mimetype": "text/x-python",
   "name": "python",
   "nbconvert_exporter": "python",
   "pygments_lexer": "ipython3",
   "version": "3.11.4"
  }
 },
 "nbformat": 4,
 "nbformat_minor": 5
}
