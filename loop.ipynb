{
 "cells": [
  {
   "cell_type": "code",
   "execution_count": 1,
   "id": "34cd918b-bb2a-4e08-94a9-2bfe4c082534",
   "metadata": {},
   "outputs": [
    {
     "data": {
      "text/plain": [
       "'ra'"
      ]
     },
     "execution_count": 1,
     "metadata": {},
     "output_type": "execute_result"
    }
   ],
   "source": [
    "state=\"rajasthan\"\n",
    "state[0:-7]"
   ]
  },
  {
   "cell_type": "code",
   "execution_count": 2,
   "id": "4cb8f398-29ad-444a-9574-ebc83a90a99e",
   "metadata": {},
   "outputs": [
    {
     "name": "stdout",
     "output_type": "stream",
     "text": [
      "1\n",
      "2\n",
      "3\n"
     ]
    }
   ],
   "source": [
    "for i in range (1,4):\n",
    "    print(i)"
   ]
  },
  {
   "cell_type": "code",
   "execution_count": 8,
   "id": "37f20885-997a-4c6a-b36b-7b31f45551a9",
   "metadata": {},
   "outputs": [
    {
     "name": "stdout",
     "output_type": "stream",
     "text": [
      "1\n",
      "5\n",
      "9\n",
      "13\n",
      "17\n",
      "21\n",
      "25\n",
      "29\n",
      "33\n",
      "37\n",
      "41\n",
      "45\n",
      "49\n"
     ]
    }
   ],
   "source": [
    "for i in range (1,50,4):\n",
    "    print(i)"
   ]
  },
  {
   "cell_type": "code",
   "execution_count": 30,
   "id": "995d91d7-e5c6-4370-be4e-f988f4b939f1",
   "metadata": {},
   "outputs": [
    {
     "name": "stdout",
     "output_type": "stream",
     "text": [
      "55\n"
     ]
    }
   ],
   "source": [
    "x=0\n",
    "for i in range (0,11):\n",
    "    x+=i\n",
    "print(x)"
   ]
  },
  {
   "cell_type": "code",
   "execution_count": 26,
   "id": "e51dd91c-903e-4560-9337-060733dac114",
   "metadata": {},
   "outputs": [
    {
     "name": "stdout",
     "output_type": "stream",
     "text": [
      "multiplication of  3628800\n"
     ]
    }
   ],
   "source": [
    "x=1\n",
    "for i in range (1, 11):\n",
    "    x *= i\n",
    "    \n",
    "\n",
    "print(\"multiplication of \",x)\n",
    "    "
   ]
  },
  {
   "cell_type": "code",
   "execution_count": 31,
   "id": "79f90c6d-d0cd-4827-addc-398da9a8de7f",
   "metadata": {},
   "outputs": [],
   "source": [
    "x=\"hell\""
   ]
  },
  {
   "cell_type": "code",
   "execution_count": 36,
   "id": "a4d3a7f4-066b-4966-8e66-6542f925f915",
   "metadata": {},
   "outputs": [
    {
     "name": "stdout",
     "output_type": "stream",
     "text": [
      "0 hell h\n",
      "1 hell e\n",
      "2 hell l\n",
      "3 hell l\n"
     ]
    }
   ],
   "source": [
    "for j in range(0,4):\n",
    "    print(j,x,x[j])"
   ]
  },
  {
   "cell_type": "code",
   "execution_count": 39,
   "id": "386b5eed-2843-422a-8c68-08b393199b85",
   "metadata": {},
   "outputs": [
    {
     "name": "stdin",
     "output_type": "stream",
     "text": [
      "Enter your password:  POLol9@\n"
     ]
    },
    {
     "name": "stdout",
     "output_type": "stream",
     "text": [
      "Password is valid.\n"
     ]
    }
   ],
   "source": [
    "import re\n",
    "\n",
    "def check_password(password):\n",
    "    # Check the length of the password\n",
    "    if len(password) < 5 or len(password) > 15:\n",
    "        return \"Password length should be between 5 and 15 characters.\"\n",
    "\n",
    "    # Check for at least 3 capital letters\n",
    "    capital_letters = sum(1 for char in password if char.isupper())\n",
    "    if capital_letters < 3:\n",
    "        return \"Password must contain at least 3 capital letters.\"\n",
    "\n",
    "    # Check for at least 2 small letters\n",
    "    small_letters = sum(1 for char in password if char.islower())\n",
    "    if small_letters < 2:\n",
    "        return \"Password must contain at least 2 small letters.\"\n",
    "\n",
    "    # Check for at least one number\n",
    "    if not any(char.isdigit() for char in password):\n",
    "        return \"Password must contain at least one number.\"\n",
    "\n",
    "    # Check for at least one special character\n",
    "    special_characters = re.compile('[@_!#$%^&*()<>?/\\\\|}{~:]')\n",
    "    if not any(special_characters.search(char) for char in password):\n",
    "        return \"Password must contain at least one special character.\"\n",
    "\n",
    "    return \"Password is valid.\"\n",
    "\n",
    "# Example usage\n",
    "user_password = input(\"Enter your password: \")\n",
    "result = check_password(user_password)\n",
    "print(result)\n",
    "\n"
   ]
  },
  {
   "cell_type": "code",
   "execution_count": null,
   "id": "85023639-52b5-45ab-905e-dc55dccf89f0",
   "metadata": {},
   "outputs": [],
   "source": []
  }
 ],
 "metadata": {
  "kernelspec": {
   "display_name": "Python 3 (ipykernel)",
   "language": "python",
   "name": "python3"
  },
  "language_info": {
   "codemirror_mode": {
    "name": "ipython",
    "version": 3
   },
   "file_extension": ".py",
   "mimetype": "text/x-python",
   "name": "python",
   "nbconvert_exporter": "python",
   "pygments_lexer": "ipython3",
   "version": "3.11.4"
  }
 },
 "nbformat": 4,
 "nbformat_minor": 5
}
