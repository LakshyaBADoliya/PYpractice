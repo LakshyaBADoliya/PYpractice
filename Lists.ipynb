{
 "cells": [
  {
   "cell_type": "code",
   "execution_count": 11,
   "id": "c18c7fcb-8fc6-49ac-ae4f-e05831c115f8",
   "metadata": {},
   "outputs": [],
   "source": [
    "mylist=[3,2.2,2,\"jerk\",\"damn\",12]\n",
    "newlist=[]"
   ]
  },
  {
   "cell_type": "code",
   "execution_count": 23,
   "id": "9b689842-4617-4834-a722-a09f7473b840",
   "metadata": {},
   "outputs": [
    {
     "name": "stdout",
     "output_type": "stream",
     "text": [
      "[9, 4, 144, 27, 8, 1728]\n"
     ]
    }
   ],
   "source": [
    "for i in mylist:\n",
    "    if type(i)== int:\n",
    "        newlist.append(i**3)\n",
    "print(newlist)"
   ]
  },
  {
   "cell_type": "code",
   "execution_count": 29,
   "id": "1cbd4888-f778-4485-ba57-d5ff2031ed1b",
   "metadata": {},
   "outputs": [
    {
     "name": "stdout",
     "output_type": "stream",
     "text": [
      "[9, 4, 144, 27, 8, 1728, 'jerk', 'damn', 'j', 'd', 'k', 'n', 'jk', 'dn']\n"
     ]
    }
   ],
   "source": [
    "for i in mylist:\n",
    "    if type(i)==str:\n",
    "      newlist.append(i[0] + i[-1])\n",
    "\n",
    "print(newlist)"
   ]
  },
  {
   "cell_type": "code",
   "execution_count": 9,
   "id": "8d49a959-1e37-41de-a5e1-98536aea0b34",
   "metadata": {},
   "outputs": [],
   "source": [
    "#DICTIONARY"
   ]
  },
  {
   "cell_type": "code",
   "execution_count": 12,
   "id": "397104b8-5309-4049-8f48-86e44de751bb",
   "metadata": {},
   "outputs": [
    {
     "name": "stdout",
     "output_type": "stream",
     "text": [
      "h\n",
      "e\n",
      "l\n",
      "l\n",
      "o\n"
     ]
    }
   ],
   "source": [
    "for char in \"hello\":\n",
    "    print(char)"
   ]
  },
  {
   "cell_type": "code",
   "execution_count": 29,
   "id": "111b33a0-7b8a-44fd-8288-bb7bb46cb878",
   "metadata": {},
   "outputs": [],
   "source": [
    "D={1:'hack',2:'mack',3:'pack'}"
   ]
  },
  {
   "cell_type": "code",
   "execution_count": 32,
   "id": "add9c0b6-0423-4e75-b0c5-2ac834ef30a2",
   "metadata": {},
   "outputs": [],
   "source": [
    "D[4]='cack'"
   ]
  },
  {
   "cell_type": "code",
   "execution_count": 34,
   "id": "bb57876f-2988-4b34-87ac-0b5ca9020b37",
   "metadata": {},
   "outputs": [
    {
     "data": {
      "text/plain": [
       "{1: 'hack', 2: 'mack', 3: 'pack', 4: 'cack'}"
      ]
     },
     "execution_count": 34,
     "metadata": {},
     "output_type": "execute_result"
    }
   ],
   "source": [
    "D"
   ]
  },
  {
   "cell_type": "code",
   "execution_count": 35,
   "id": "e8b8c396-96fa-4e84-9f13-8aa4e68f7003",
   "metadata": {},
   "outputs": [
    {
     "data": {
      "text/plain": [
       "{1: 'hack', 2: 'mack', 3: 'pack', 4: 'cack'}"
      ]
     },
     "execution_count": 35,
     "metadata": {},
     "output_type": "execute_result"
    }
   ],
   "source": [
    "D"
   ]
  },
  {
   "cell_type": "code",
   "execution_count": 36,
   "id": "714a5b50-e6ea-49cb-9463-e5d082cf951e",
   "metadata": {},
   "outputs": [],
   "source": [
    "D[2]='dack'"
   ]
  },
  {
   "cell_type": "code",
   "execution_count": 37,
   "id": "f4f9e5c7-275d-4ae2-9aac-e00f323e4579",
   "metadata": {},
   "outputs": [
    {
     "data": {
      "text/plain": [
       "{1: 'hack', 2: 'dack', 3: 'pack', 4: 'cack'}"
      ]
     },
     "execution_count": 37,
     "metadata": {},
     "output_type": "execute_result"
    }
   ],
   "source": [
    "D"
   ]
  },
  {
   "cell_type": "code",
   "execution_count": 38,
   "id": "b231a494-526f-4c1c-bb8b-97b183b294c4",
   "metadata": {},
   "outputs": [
    {
     "data": {
      "text/plain": [
       "'dack'"
      ]
     },
     "execution_count": 38,
     "metadata": {},
     "output_type": "execute_result"
    }
   ],
   "source": [
    "D.pop(2)"
   ]
  },
  {
   "cell_type": "code",
   "execution_count": 39,
   "id": "79c36d1d-7822-4f5c-9789-5c13450b5d30",
   "metadata": {},
   "outputs": [
    {
     "data": {
      "text/plain": [
       "{1: 'hack', 3: 'pack', 4: 'cack'}"
      ]
     },
     "execution_count": 39,
     "metadata": {},
     "output_type": "execute_result"
    }
   ],
   "source": [
    "D"
   ]
  },
  {
   "cell_type": "code",
   "execution_count": 40,
   "id": "dec9a338-bb01-4333-928f-158690c60688",
   "metadata": {},
   "outputs": [],
   "source": [
    "D[2]='mack'"
   ]
  },
  {
   "cell_type": "code",
   "execution_count": 41,
   "id": "22946459-6e7b-4378-bca5-9848c05283fc",
   "metadata": {},
   "outputs": [
    {
     "data": {
      "text/plain": [
       "{1: 'hack', 3: 'pack', 4: 'cack', 2: 'mack'}"
      ]
     },
     "execution_count": 41,
     "metadata": {},
     "output_type": "execute_result"
    }
   ],
   "source": [
    "D"
   ]
  },
  {
   "cell_type": "code",
   "execution_count": 46,
   "id": "cbab0144-7288-449d-b8b9-cc95d09b2281",
   "metadata": {},
   "outputs": [],
   "source": [
    " del D #deleting old stuff"
   ]
  },
  {
   "cell_type": "code",
   "execution_count": 58,
   "id": "e38ef136-5e7f-4f44-a4b5-487ab6819e4e",
   "metadata": {},
   "outputs": [
    {
     "name": "stdout",
     "output_type": "stream",
     "text": [
      "{'no of words': 5}\n"
     ]
    }
   ],
   "source": [
    "\n",
    "dic={\"no of words\":0}\n",
    "for i in \"hello\":\n",
    "    dic[\"no of words\"]=dic[\"no of words\"]+1\n",
    "    \n",
    "print(dic)"
   ]
  },
  {
   "cell_type": "code",
   "execution_count": 67,
   "id": "d4ed8034-6d06-47c9-9e76-ad87ca5d8982",
   "metadata": {},
   "outputs": [
    {
     "name": "stdin",
     "output_type": "stream",
     "text": [
      " HI Im Amaan form uganda \n"
     ]
    },
    {
     "data": {
      "text/plain": [
       "{'I': 2, 'A': 1, 'a': 4, 'o': 1, 'u': 1}"
      ]
     },
     "execution_count": 67,
     "metadata": {},
     "output_type": "execute_result"
    }
   ],
   "source": [
    "x=input()\n",
    "dic={}\n",
    "for char in x:\n",
    "    if char in \"aeiouAEIOU\":\n",
    "        \n",
    "        \n",
    "\n",
    "         if char not in dic:\n",
    "            dic[char]=1\n",
    "\n",
    "\n",
    "         else:\n",
    "             dic[char]=dic[char]+1\n",
    "\n",
    "dic\n",
    "\n",
    "\n"
   ]
  },
  {
   "cell_type": "code",
   "execution_count": null,
   "id": "1a0cb3ed-f039-443d-ab91-67bd57768496",
   "metadata": {},
   "outputs": [],
   "source": []
  }
 ],
 "metadata": {
  "kernelspec": {
   "display_name": "Python 3 (ipykernel)",
   "language": "python",
   "name": "python3"
  },
  "language_info": {
   "codemirror_mode": {
    "name": "ipython",
    "version": 3
   },
   "file_extension": ".py",
   "mimetype": "text/x-python",
   "name": "python",
   "nbconvert_exporter": "python",
   "pygments_lexer": "ipython3",
   "version": "3.11.4"
  }
 },
 "nbformat": 4,
 "nbformat_minor": 5
}
