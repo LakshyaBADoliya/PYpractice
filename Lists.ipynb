{
 "cells": [
  {
   "cell_type": "code",
   "execution_count": 11,
   "id": "c18c7fcb-8fc6-49ac-ae4f-e05831c115f8",
   "metadata": {},
   "outputs": [],
   "source": [
    "mylist=[3,2.2,2,\"jerk\",\"damn\",12]\n",
    "newlist=[]"
   ]
  },
  {
   "cell_type": "code",
   "execution_count": 23,
   "id": "9b689842-4617-4834-a722-a09f7473b840",
   "metadata": {},
   "outputs": [
    {
     "name": "stdout",
     "output_type": "stream",
     "text": [
      "[9, 4, 144, 27, 8, 1728]\n"
     ]
    }
   ],
   "source": [
    "for i in mylist:\n",
    "    if type(i)== int:\n",
    "        newlist.append(i**3)\n",
    "print(newlist)"
   ]
  },
  {
   "cell_type": "code",
   "execution_count": 29,
   "id": "1cbd4888-f778-4485-ba57-d5ff2031ed1b",
   "metadata": {},
   "outputs": [
    {
     "name": "stdout",
     "output_type": "stream",
     "text": [
      "[9, 4, 144, 27, 8, 1728, 'jerk', 'damn', 'j', 'd', 'k', 'n', 'jk', 'dn']\n"
     ]
    }
   ],
   "source": [
    "for i in mylist:\n",
    "    if type(i)==str:\n",
    "      newlist.append(i[0] + i[-1])\n",
    "\n",
    "print(newlist)"
   ]
  },
  {
   "cell_type": "code",
   "execution_count": null,
   "id": "afd384dd-1256-4ce7-a753-9dd0429cd86f",
   "metadata": {},
   "outputs": [],
   "source": []
  }
 ],
 "metadata": {
  "kernelspec": {
   "display_name": "Python 3 (ipykernel)",
   "language": "python",
   "name": "python3"
  },
  "language_info": {
   "codemirror_mode": {
    "name": "ipython",
    "version": 3
   },
   "file_extension": ".py",
   "mimetype": "text/x-python",
   "name": "python",
   "nbconvert_exporter": "python",
   "pygments_lexer": "ipython3",
   "version": "3.11.4"
  }
 },
 "nbformat": 4,
 "nbformat_minor": 5
}
